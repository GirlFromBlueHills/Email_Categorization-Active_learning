{
 "cells": [
  {
   "cell_type": "markdown",
   "metadata": {},
   "source": [
    "# Project"
   ]
  },
  {
   "cell_type": "code",
   "execution_count": 172,
   "metadata": {
    "slideshow": {
     "slide_type": "slide"
    }
   },
   "outputs": [],
   "source": [
    "import pandas as pd\n",
    "import numpy as np\n",
    "from textblob import TextBlob\n",
    "from types import *\n",
    "from sklearn.feature_extraction.text import CountVectorizer\n",
    "\n",
    "from nltk.stem.snowball import SnowballStemmer\n",
    "stemmer = SnowballStemmer(\"english\")\n",
    "analyzer = CountVectorizer().build_analyzer()\n",
    "\n",
    "def stemmed_words(doc):\n",
    "    return (stemmer.stem(w) for w in analyzer(doc))\n",
    "\n",
    "\n",
    "promo_dataset = pd.read_csv(\"promotion_dataset_subject.csv\", encoding='utf-8')\n",
    "iit_subject_dataset = pd.read_csv('iit_email_subject.csv',encoding='latin1') \n",
    "iit_subject_dataset = iit_subject_dataset.drop('Unnamed: 0',1)\n",
    "promo_dataset = promo_dataset.drop('Unnamed: 0',1)\n",
    "New_dataset = iit_subject_dataset.append(promo_dataset,ignore_index=True)\n",
    "New_dataset['Email'] = New_dataset[['From', 'Subject']].apply(lambda x: ''.join(x), axis=1)\n",
    "\n",
    "New_dataset=New_dataset.fillna(9)\n",
    "\n",
    "drop_list=[]\n",
    "for i in range(0,len(New_dataset['Label'])):\n",
    "    if New_dataset.iloc[i]['Label']==9:\n",
    "        drop_list.append(i)\n",
    "\n",
    "New_dataset = New_dataset.drop(drop_list).reset_index(drop=True)\n",
    "New_dataset.Label = New_dataset.Label.astype(int)\n",
    "Y = New_dataset.iloc[:,4:5]\n",
    "\n",
    "\n"
   ]
  },
  {
   "cell_type": "code",
   "execution_count": 173,
   "metadata": {
    "slideshow": {
     "slide_type": "slide"
    }
   },
   "outputs": [
    {
     "name": "stdout",
     "output_type": "stream",
     "text": [
      "        ID  From  Date  Subject  Email\n",
      "Label                                 \n",
      "0      751   751   751      751    751\n",
      "1      571   571   571      571    571\n",
      "2      456   456   456      456    456\n"
     ]
    }
   ],
   "source": [
    "\n",
    "print(New_dataset.groupby('Label').count())"
   ]
  },
  {
   "cell_type": "code",
   "execution_count": 175,
   "metadata": {
    "slideshow": {
     "slide_type": "slide"
    }
   },
   "outputs": [
    {
     "name": "stdout",
     "output_type": "stream",
     "text": [
      "feature total number : 2958\n"
     ]
    }
   ],
   "source": [
    "from sklearn.feature_extraction.text import CountVectorizer\n",
    "#vectorizer = CountVectorizer(max_df=0.5,stop_words='english')#shape=(500, 20928) for Email\n",
    "from nltk.stem import WordNetLemmatizer\n",
    "wnl = WordNetLemmatizer()\n",
    "analyzer = CountVectorizer().build_analyzer()\n",
    "\n",
    "def stemmed_words(doc):\n",
    "    return (wnl.lemmatize(w) for w in analyzer(doc))\n",
    "\n",
    "vectorizer = CountVectorizer(analyzer=stemmed_words,binary=True)#shape=(500, 20936) for Email\n",
    "X_sparse = vectorizer.fit_transform(New_dataset['Email'])#shape=(561, 1159)\n",
    "feature_name = vectorizer.get_feature_names()\n",
    "X = pd.DataFrame(X_sparse.todense()) \n",
    "\n",
    "print(\"feature total number :\",len(feature_name))"
   ]
  },
  {
   "cell_type": "markdown",
   "metadata": {},
   "source": [
    "## Set Classifier and parameter"
   ]
  },
  {
   "cell_type": "code",
   "execution_count": 194,
   "metadata": {
    "collapsed": true
   },
   "outputs": [],
   "source": [
    "from sklearn.model_selection import train_test_split\n",
    "from sklearn.naive_bayes import MultinomialNB\n",
    "nb = MultinomialNB(alpha=20, class_prior=None, fit_prior=True)\n",
    "length_trainset=[]\n",
    "Budget = 10\n",
    "seed = 30"
   ]
  },
  {
   "cell_type": "markdown",
   "metadata": {
    "slideshow": {
     "slide_type": "fragment"
    }
   },
   "source": [
    "## Random Sampling- Lw/oR"
   ]
  },
  {
   "cell_type": "code",
   "execution_count": 195,
   "metadata": {
    "slideshow": {
     "slide_type": "notes"
    }
   },
   "outputs": [
    {
     "name": "stderr",
     "output_type": "stream",
     "text": [
      "/Users/YiChen/anaconda3/lib/python3.6/site-packages/sklearn/utils/validation.py:547: DataConversionWarning: A column-vector y was passed when a 1d array was expected. Please change the shape of y to (n_samples, ), for example using ravel().\n",
      "  y = column_or_1d(y, warn=True)\n"
     ]
    },
    {
     "name": "stdout",
     "output_type": "stream",
     "text": [
      "Accuracy:  [0.47756956274843837, 0.53075170842824604, 0.6950314106225014, 0.68213058419243988, 0.77713957495692132, 0.57603686635944695, 0.60947429231658001, 0.63499420625724223, 0.71295758280069732, 0.76048951048951052]\n"
     ]
    }
   ],
   "source": [
    "def Random_Sampling_lwoR():\n",
    "    RS_Lwo_R=[]\n",
    "    X_train,X_test,Y_train,Y_test = train_test_split(X,Y,test_size = 0.99, random_state = seed)\n",
    "    for i in range(0,Budget): \n",
    "        length_trainset.append(len(X_train))\n",
    "        nb.fit(X_train, Y_train)\n",
    "        predicted = nb.predict(X_test)\n",
    "        RS_Lwo_R.append(nb.score(X_test,Y_test))\n",
    "        X_train = X_train.append(X_test.iloc[0:5])\n",
    "        X_test = X_test.drop(X_test.iloc[0:5].index)\n",
    "        Y_train = Y_train.append(Y_test.iloc[0:5])\n",
    "        Y_test = Y_test.drop(Y_test.iloc[0:5].index)\n",
    "Random_Sampling_lwoR()\n",
    "print(\"Accuracy: \",RS_Lwo_R)"
   ]
  },
  {
   "cell_type": "markdown",
   "metadata": {},
   "source": [
    "## Finding_Rationale"
   ]
  },
  {
   "cell_type": "code",
   "execution_count": 196,
   "metadata": {
    "collapsed": true
   },
   "outputs": [],
   "source": [
    "Social_rationale_list=[\"linkedin\",\"indeed\",\"datacamp\",\"ita\"]\n",
    "Primary_rationale_list=[\"iit\",\"piazza\",\"submission\",\"handshake\",\"collaborate\",\"confirm\",\"confirmation\"\n",
    ",\"edu\",\"application\",\"association\",\"apics\",\"hawklink\",\"comsubmission\"]\n",
    "promo_rationale_list=[\"purchase\",\"special\",\"off\",\"gift\",\"sample\",\"shipping\",\"promotion\",\"left\"\n",
    ",\"tonight\",\"sale\",\"new\",\"miss\",\"save\",\"discount\",\"free\",\"last\",\"only\"\n",
    ",\"soon\",\"deal\",\"exclusive\",\"today\",\"ends\",\"best\",\"prices\",\"weekend\",\"holiday\",\"now\"\n",
    ",\"reward\",\"final\",\"release\",\"clearance\",\"collection\",\"minute\"]\n",
    "\n",
    "Rationale_list = [Primary_rationale_list,promo_rationale_list,Social_rationale_list]\n",
    "                \n",
    "def findind_rationale(uncertain_index):\n",
    "    print(\"Finding_Rationale: \")\n",
    "    for i, value in enumerate(uncertain_index):\n",
    "        label = Y_test.loc[value,'Label']\n",
    "        for j in range(0,len(feature_name)):\n",
    "            if X_test.loc[value, j] >0:\n",
    "                for k,rationale in enumerate(Rationale_list[label]):       \n",
    "                    if rationale == feature_name[j]:\n",
    "                        print(New_dataset.iloc[value]['Email'])\n",
    "                        print(\"Rationale:\",rationale)\n",
    "                        X_test.set_value(value,j,10)\n",
    "\n"
   ]
  },
  {
   "cell_type": "markdown",
   "metadata": {},
   "source": [
    "## Finding_uncertain"
   ]
  },
  {
   "cell_type": "code",
   "execution_count": 197,
   "metadata": {
    "collapsed": true
   },
   "outputs": [],
   "source": [
    "def finding_uncertain(X_test):\n",
    "    print(\"Uncertain_Email\")\n",
    "    predict_proba = nb.predict_proba(X_test)\n",
    "    ratio = []\n",
    "    neural_index = []\n",
    "    for x in range(0,len(X_test)):\n",
    "        ratio.append(predict_proba[x,1]/0.3+predict_proba[x,0]/0.3+predict_proba[x,2]/0.3)\n",
    "    ratio = np.array(ratio)\n",
    "    neural_row = np.argsort(ratio)[::1][:5]\n",
    "    for i,value in enumerate(neural_row):\n",
    "        print(X_test.index[value],New_dataset.iloc[X_test.index[value]]['Email'])\n",
    "        neural_index.append(X_test.index[value])\n",
    "    return(neural_index)\n"
   ]
  },
  {
   "cell_type": "markdown",
   "metadata": {},
   "source": [
    "## Random Sampling- Lw/R"
   ]
  },
  {
   "cell_type": "code",
   "execution_count": 198,
   "metadata": {},
   "outputs": [
    {
     "name": "stdout",
     "output_type": "stream",
     "text": [
      "0\n",
      "Int64Index([1741, 1117, 426, 1080, 1486], dtype='int64')\n",
      "Finding_Rationale: \n"
     ]
    },
    {
     "name": "stderr",
     "output_type": "stream",
     "text": [
      "/Users/YiChen/anaconda3/lib/python3.6/site-packages/sklearn/utils/validation.py:547: DataConversionWarning: A column-vector y was passed when a 1d array was expected. Please change the shape of y to (n_samples, ), for example using ravel().\n",
      "  y = column_or_1d(y, warn=True)\n"
     ]
    },
    {
     "name": "stdout",
     "output_type": "stream",
     "text": [
      "HawkLink <relay@collegiatelink.mail.campuslabs.com>Homecoming - Saturday!\n",
      "Rationale: hawklink\n",
      " Feedback of Assignment 1wk.iit.edu>Re: XLSC04201720 (CS-587-01.17S: Software Project Management):\n",
      "Rationale: edu\n",
      " Feedback of Assignment 1wk.iit.edu>Re: XLSC04201720 (CS-587-01.17S: Software Project Management):\n",
      "Rationale: iit\n",
      "\"Clinique Online\" <clinique@e.clinique.com>pretty sweet! pick 5 free minis with purchase.\n",
      "Rationale: free\n",
      "\"Clinique Online\" <clinique@e.clinique.com>pretty sweet! pick 5 free minis with purchase.\n",
      "Rationale: purchase\n",
      "1\n",
      "Int64Index([197, 706, 314, 1190, 1677], dtype='int64')\n",
      "Finding_Rationale: \n",
      "Bigesh Kuwar <invitations@linkedin.com>Yi Chen, please add me to your LinkedIn network\n",
      "Rationale: linkedin\n",
      "\"Kristina Zwolfer\" <kristina@illinoistech.org>Final Reminder! ITA Student Webinar | Behavioral Based Interviewing\n",
      "Rationale: ita\n",
      "CS553 on Piazza <no-reply@piazza.com>Java : command not found on CentOS 7 Instance\n",
      "Rationale: piazza\n",
      "CS 584 on Piazza <no-reply@piazza.com>Lecture(01/31/2017)- Rules can be simplified\n",
      "Rationale: piazza\n",
      "2\n",
      "Int64Index([1204, 482, 1611, 378, 472], dtype='int64')\n",
      "Finding_Rationale: \n",
      "Mengyuan Wen <invitations@linkedin.com>Yi Chen, please add me to your LinkedIn network\n",
      "Rationale: linkedin\n",
      "Office of the Registrar <registrar@iit.edu>Annual FERPA Notification\n",
      "Rationale: edu\n",
      "Office of the Registrar <registrar@iit.edu>Annual FERPA Notification\n",
      "Rationale: iit\n",
      "\"Yipit's Best\" <e@yipit.com>today's top travel: barbados, ireland, myrtle beach, america's rivers\n",
      "Rationale: best\n",
      "\"Yipit's Best\" <e@yipit.com>today's top travel: barbados, ireland, myrtle beach, america's rivers\n",
      "Rationale: today\n",
      "LinkedIn Messaging <messaging-digest-noreply@linkedin.com>Luke sent you a new message\n",
      "Rationale: linkedin\n",
      "Joseph Rosen <jrosen@iit.edu>Re: X9200447.201810 (CSP-595-01.17F: Big Data Technologies): Root key issue\n",
      "Rationale: edu\n",
      "Joseph Rosen <jrosen@iit.edu>Re: X9200447.201810 (CSP-595-01.17F: Big Data Technologies): Root key issue\n",
      "Rationale: iit\n",
      "3\n",
      "Int64Index([1602, 1572, 1281, 1657, 1019], dtype='int64')\n",
      "Finding_Rationale: \n",
      "\"Spotify\" <hello@spotify.com>a special thank you from cardi b\n",
      "Rationale: special\n",
      "\"Yipit's Best\" <e@yipit.com>today's top travel: southwest sale, cancun, punta cana, central europe\n",
      "Rationale: best\n",
      "\"Yipit's Best\" <e@yipit.com>today's top travel: southwest sale, cancun, punta cana, central europe\n",
      "Rationale: sale\n",
      "\"Yipit's Best\" <e@yipit.com>today's top travel: southwest sale, cancun, punta cana, central europe\n",
      "Rationale: today\n",
      "\"L'Occitane en Provence\" <contact@contact.loccitane.com>last chance - nourish skin\\Â¦free + blogger most wanted!\n",
      "Rationale: free\n",
      "\"L'Occitane en Provence\" <contact@contact.loccitane.com>last chance - nourish skin\\Â¦free + blogger most wanted!\n",
      "Rationale: last\n",
      "Karthik Srikantam <invitations@linkedin.com>Yi Chen, please add me to your LinkedIn network\n",
      "Rationale: linkedin\n",
      "4\n",
      "Int64Index([1098, 1020, 327, 742, 667], dtype='int64')\n",
      "Finding_Rationale: \n",
      "LinkedIn Updates <messages-noreply@linkedin.com>Check out Chester Hsieh's new skills\n",
      "Rationale: linkedin\n",
      "CS 584 on Piazza <no-reply@piazza.com>midterm score distribution\n",
      "Rationale: piazza\n",
      "CS553 on Piazza <no-reply@piazza.com>[Instr Note] office hours\n",
      "Rationale: piazza\n",
      "Archi Dsouza <invitations@linkedin.com>Yi Chen, please add me to your LinkedIn network\n",
      "Rationale: linkedin\n",
      " LinkedIn<notifications-noreply@linkedin.com>Yi Chen, you have 1 invitation and 7 new updates waiting for you on\n",
      "Rationale: linkedin\n",
      "5\n",
      "Int64Index([1387, 1704, 196, 1073, 215], dtype='int64')\n",
      "Finding_Rationale: \n",
      "\"Forever 21\" <forever21@news.forever21.com> final hours: 21% off! \n",
      "Rationale: final\n",
      "\"Forever 21\" <forever21@news.forever21.com> final hours: 21% off! \n",
      "Rationale: off\n",
      "IIT Office of Marketing and Communications <iittoday@iit.edu>Illinois Tech Today, Thursday, October 12, 2017\n",
      "Rationale: edu\n",
      "IIT Office of Marketing and Communications <iittoday@iit.edu>Illinois Tech Today, Thursday, October 12, 2017\n",
      "Rationale: iit\n",
      "Pavithra Vinay <pvinay@hawk.iit.edu>Re: Assignment 2\n",
      "Rationale: edu\n",
      "Pavithra Vinay <pvinay@hawk.iit.edu>Re: Assignment 2\n",
      "Rationale: iit\n",
      "\"Gabriel from DataCamp\" <team@datacamp.com>How to Choose a Data Science Job\n",
      "Rationale: datacamp\n",
      "6\n",
      "Int64Index([904, 1712, 1151, 558, 303], dtype='int64')\n",
      "Finding_Rationale: \n",
      "Â¯Â§ _RitaTsai via LinkedIn <invitations@linkedin.com>See Â¯Â§ _RitaTsai's connections, experience, and more\n",
      "Rationale: linkedin\n",
      "IIT Public Safety <publicsafety@iit.edu>Safety Message Regarding Solar Eclipse\n",
      "Rationale: edu\n",
      "IIT Public Safety <publicsafety@iit.edu>Safety Message Regarding Solar Eclipse\n",
      "Rationale: iit\n",
      "Mustafa Bilgic <mbilgic@iit.edu>Re: Assignment 6 issue\n",
      "Rationale: edu\n",
      "Mustafa Bilgic <mbilgic@iit.edu>Re: Assignment 6 issue\n",
      "Rationale: iit\n",
      "7\n",
      "Int64Index([430, 687, 1474, 446, 1112], dtype='int64')\n",
      "Finding_Rationale: \n",
      "Dipti Sharma <invitations@linkedin.com>Yi Chen, please add me to your LinkedIn network\n",
      "Rationale: linkedin\n",
      " purchase.der Online <EsteeLauderOnline@e.esteelauder.com>this is big: free full-size advanced night repair eye, with your\n",
      "Rationale: free\n",
      " purchase.der Online <EsteeLauderOnline@e.esteelauder.com>this is big: free full-size advanced night repair eye, with your\n",
      "Rationale: purchase\n",
      "IIT Announcements <email-announcement@iit.edu>Service Interruption -- HAWKi\n",
      "Rationale: edu\n",
      "IIT Announcements <email-announcement@iit.edu>Service Interruption -- HAWKi\n",
      "Rationale: iit\n",
      "CS 584 on Piazza <no-reply@piazza.com>Quiz 4 table problem\n",
      "Rationale: piazza\n",
      "8\n",
      "Int64Index([792, 494, 1423, 512, 133], dtype='int64')\n",
      "Finding_Rationale: \n",
      "IIT Alert <iittoday@iit.edu>[IIT Alert] Phone and Wi-Fi Outage\n",
      "Rationale: edu\n",
      "IIT Alert <iittoday@iit.edu>[IIT Alert] Phone and Wi-Fi Outage\n",
      "Rationale: iit\n",
      "\"Target\" <targetnews@em.target.com>get 30% off bedding before this sale says goodnight.\n",
      "Rationale: off\n",
      "\"Target\" <targetnews@em.target.com>get 30% off bedding before this sale says goodnight.\n",
      "Rationale: sale\n",
      " suggestions for you.reply@linkedin.com>Tejraj Kore, Russell Mstowski, and 6 others are new connection\n",
      "Rationale: linkedin\n",
      " <relay@collegiatelink.mail.campuslabs.com>Show and Tell Cancelled :(\n",
      "Rationale: association\n",
      "9\n",
      "Int64Index([1357, 1745, 940, 586, 1724], dtype='int64')\n",
      "Finding_Rationale: \n",
      "\"LIDS\" <email@et.lids.com>score big - 30% off sitewide!\n",
      "Rationale: off\n",
      "Akshar Patel <careerservices@iit.edu>Summer 2017 Experiential Learning registration is now open!\n",
      "Rationale: edu\n",
      "Akshar Patel <careerservices@iit.edu>Summer 2017 Experiential Learning registration is now open!\n",
      "Rationale: iit\n",
      "IIT Office of Marketing and Communications <iittoday@iit.edu>Illinois Tech Today August 8, 2017\n",
      "Rationale: edu\n",
      "IIT Office of Marketing and Communications <iittoday@iit.edu>Illinois Tech Today August 8, 2017\n",
      "Rationale: iit\n",
      "Accuracy:  [0.53208404315729696, 0.8006833712984055, 0.8463735008566533, 0.87686139747995417, 0.87018954623779432, 0.86405529953917048, 0.86250722125938761, 0.86095017381228278, 0.88320743753631614, 0.89102564102564108]\n"
     ]
    }
   ],
   "source": [
    "def Random_Sampling_lwR():\n",
    "    RS_Lw_R=[]\n",
    "    X_train,X_test,Y_train,Y_test = train_test_split(X,Y,test_size = 0.99, random_state = seed)\n",
    "    for i in range(0,Budget):\n",
    "        print(i)\n",
    "        nb.fit(X_train, Y_train)\n",
    "        predicted = nb.predict(X_test)\n",
    "        RS_Lw_R.append(nb.score(X_test,Y_test))\n",
    "        random_list = X_test.iloc[0:5].index\n",
    "        print(random_list)\n",
    "        findind_rationale(random_list)\n",
    "        X_train = X_train.append(X_test.iloc[0:5])\n",
    "        X_test = X_test.drop(X_test.iloc[0:5].index)\n",
    "        Y_train = Y_train.append(Y_test.iloc[0:5])\n",
    "        Y_test = Y_test.drop(Y_test.iloc[0:5].index)\n",
    "\n",
    "Random_Sampling_lwR()\n",
    "print(\"Accuracy: \",RS_Lw_R)"
   ]
  },
  {
   "cell_type": "markdown",
   "metadata": {},
   "source": [
    "## Active Learning- Lw/oR"
   ]
  },
  {
   "cell_type": "code",
   "execution_count": 199,
   "metadata": {},
   "outputs": [
    {
     "name": "stdout",
     "output_type": "stream",
     "text": [
      "0\n",
      "Uncertain_Email\n",
      "354 APICS- The Association of Operations Management\r",
      "\r",
      " <relay@collegiatelink.mail.campuslabs.com>10/3 UI Labs Tour and Presentation\n",
      "462 Career Services at Illinois Tech via joinhandshake.com\r",
      "\r",
      " <handshake@mail.joinhandshake.com>Don't forget about tomorrow's Career Fair Prep Night\n",
      "632 LinkedIn <news@linkedin.com>A CEO\\s response to an employee\\s request for a mental health day is going viral. Here\\s what people are saying.\n",
      "1272 \"L'Occitane en Provence\" <contact@contact.loccitane.com>the fall beauty event ends tonight! get your free gift (worth $59)\n",
      "813 CS 584 on Piazza <no-reply@piazza.com>Problem in Last Quiz Please explain how we get class 2 for x2?\n"
     ]
    },
    {
     "name": "stderr",
     "output_type": "stream",
     "text": [
      "/Users/YiChen/anaconda3/lib/python3.6/site-packages/sklearn/utils/validation.py:547: DataConversionWarning: A column-vector y was passed when a 1d array was expected. Please change the shape of y to (n_samples, ), for example using ravel().\n",
      "  y = column_or_1d(y, warn=True)\n"
     ]
    },
    {
     "name": "stdout",
     "output_type": "stream",
     "text": [
      "1\n",
      "Uncertain_Email\n",
      "1422 SkinMedix <info@skinmedix.com>it's all on sale! up to an extra 10% off everything you want & more\n",
      "1696 \"L'Occitane en Provence\" <contact@contact.loccitane.com>almost gone! our shea butter soaps are just what you need\n",
      " skills!ake@mail.joinhandshake.com>Career Fair Prep Night: Practice and refine your communication\n",
      "862 LinkedIn <news@linkedin.com>Job interviews are utterly useless \\ even harmful \\ new research finds. Here's what people are saying.\n",
      " purchase.e Lauder Online <EsteeLauderOnline@e.esteelauder.com>ends tonight: free 7-piece gift (worth up to $140), with your\n",
      "2\n",
      "Uncertain_Email\n",
      " <handshake@mail.joinhandshake.com>Submit Your Resume to Fall 2017 Career Fair Companies\n",
      " looking for candidates like you.edin.com>Yi Chen: Google, Clarity Solution Group, and Conversant LLC are\n",
      "1317 \"L'Occitane en Provence\" <contact@contact.loccitane.com> just in time for fall: discover our new shea butter additions!\n",
      "917 Career Services at Illinois Tech <careerservices@iit.edu>Learn how to converse professionally and other networking opportunities\n",
      " using Naive Bayes Piazza <no-reply@piazza.com>Request for extending the deadline for Assignment 8 Transparency\n",
      "3\n",
      "Uncertain_Email\n",
      "1256 \"Kiehl's Since 1851\" <kiehls@mail.kiehls-usa.com>healthy skin at a value with kate moross premium gift sets\n",
      "1359 \"NORDSTROM RACK\" <nordstromrack@e.nordstromrack.com>wear it your way: the embroidered moto up to 50% off & more for fall\n",
      "1525 \"Clinique Online\" <clinique@e.clinique.com>new! powder power for lips. free 7-pc. gift + more with purchase. a $146.50 value.\n",
      "1378 \"Calvin Klein Outlet Stores\" <calvinklein@email.calvinklein.com>warm up with the season\\s best savings: up to 70% off + extra 20% off for preferred\n",
      "1656 \"Mariano's\" <Marianos@email-marianos.com>loadable lunch & dinner sushi tray from oki sushi, buffalo rotisserie chicken salad, and more\n",
      "4\n",
      "Uncertain_Email\n",
      "1703 EstÂ©e Lauder Online <EsteeLauderOnline@e.esteelauder.com>the eyes have it: more for less. shop before they\\re gone!\n",
      "715 LinkedIn <news@linkedin.com>As close as it gets to a crystal ball in tech: Mary Meeker\\s annual trends report. Here's what you need to know now.\n",
      " for you.dIn <messages-noreply@linkedin.com>REN-HAO SYUE, Peng Lu, and 6 others are new connection suggestions\n",
      "929 \"Trisha Degg\" <trisha@illinoistech.org>You're Invited! ITA Student Webinar | How to Prepare for a Career in Tech\n",
      "649 \"Yitong Huang (via Google Drive)\" <drive-shares-noreply@google.com>CS-521-01-_SB-106_2017-06-01_17_58_01.ts.720p.mp4\n",
      "5\n",
      "Uncertain_Email\n",
      " <relay@collegiatelink.mail.campuslabs.com>WEN is coming to our General Body Meeting\n",
      " presentation!il.joinhandshake.com>Want to strengthen professional connections? Attend our Sept. 7\n",
      " presentation!il.joinhandshake.com>Want to strengthen professional connections? Attend our Sept. 7\n",
      " <handshake@mail.joinhandshake.com>4 Days to Submit Your Resume to Fall Career Fair Companies\n",
      " Big Shoulders Fund<handshake@mail.joinhandshake.com>Careers in Non-profits and Public Administration by Eliza Bryant of\n",
      "6\n",
      "Uncertain_Email\n",
      " and win up to $2,500! dshake@mail.joinhandshake.com>Enter the Jules Knapp Chicago Innovation Challenge by October 1,\n",
      "385 IIT Office of Technology Services <email-announcement@iit.edu>Special OTS Maintenance Windows Hours - October 13-15, 2017\n",
      "1033 Career Services at Illinois Tech <careerservices@iit.edu>Tell us what you thought of the spring Career Fair\n",
      " Family Institute for Innovation and Tech Entrepreneurshipathew Appointed as Academic Director of the Ed Kaplan\n",
      " Halloween Partyu <ychou@hawk.iit.edu>Fwd: (TSA)Community Partner Confirmation - Chicago Largest Asian\n",
      "7\n",
      "Uncertain_Email\n",
      "1274 \"Kiehl's Since 1851\" <kiehls@mail.kiehls-usa.com>your sneak peek of our exciting holiday partnership is here!\n",
      " at Illinois Techay@collegiatelink.mail.campuslabs.com>Survey Reminder - Help Shape the Future of Housing and Student Life\n",
      "1542 \"Mariano's\" <Marianos@email-marianos.com> 5 day sale  boneless strip steak, krakus polish ham or land o'lakes cheese, pillsbury crescent rolls, and more\n",
      "1410 Samsonite <samsonite@enews.samsonite.com>save up 40% off your next order - email exclusive. plus, check out our new ubx backpack\n",
      "1014 LinkedIn <news@linkedin.com>You may be busy, but you probably aren\\t as productive as you think \\ and you\\re definitely working yourself to death\n",
      "8\n",
      "Uncertain_Email\n",
      " Chicago, ILjob-search@indeed.com>$141,531 is the average salary for machine learning engineer in\n",
      " Science & Media Tech Firm at FILD and 9 other jobs for you. Python / Django / JavaScript - Top Rated Data\n",
      " Wednesday, Sep 20 12:00 pm - 4:00 pm CDTt, Military, Search firms -DAY 1: Computer Science, Information Technology,\n",
      " staff ended up with 85,000 customers. Here's what people are saying.w a startup with no sales\n",
      " <handshake@mail.joinhandshake.com>Seeking Donations of Professional Clothing and Shoes!\n",
      "9\n",
      "Uncertain_Email\n",
      "914 LinkedIn <jobs-listings@linkedin.com>Software Engineer \\ magic methods, smart pointers & generics $250K - $300K at maven and 9 other jobs for you.\n",
      "827 Yu-Hsuan Chou <ychou@hawk.iit.edu>Fwd: ITA Student Scoop: PEAK6 Panel & Networking | Resume Check-List\n",
      "235 CS 595 - 01 on Piazza <no-reply@piazza.com>How to calculate the log-evidence and probability distribution?\n",
      "472 Joseph Rosen <jrosen@iit.edu>Re: X9200447.201810 (CSP-595-01.17F: Big Data Technologies): Root key issue\n",
      "478 Joseph Rosen <jrosen@iit.edu>Re: X9200447.201810 (CSP-595-01.17F: Big Data Technologies): Root key issue\n",
      "Accuracy:  [0.53208404315729696, 0.59794988610478361, 0.75499714448886346, 0.75143184421534936, 0.88052843193566921, 0.87096774193548387, 0.87348353552859614, 0.88586326767091539, 0.88262638001162119, 0.86538461538461542]\n"
     ]
    }
   ],
   "source": [
    "def Active_Learning_lwoR():\n",
    "    AL_Lwo_R=[]\n",
    "    X_train,X_test,Y_train,Y_test = train_test_split(X,Y,test_size = 0.99, random_state = seed)\n",
    "    for i in range(0,Budget): \n",
    "        print(i)\n",
    "        nb.fit(X_train, Y_train)\n",
    "        predicted = nb.predict(X_test)\n",
    "        AL_Lwo_R.append(nb.score(X_test,Y_test))\n",
    "        uncertain_list = finding_uncertain(X_test)\n",
    "        for i, value in enumerate(uncertain_list):\n",
    "            X_train = X_train.append(X_test.loc[value])\n",
    "            Y_train = Y_train.append(Y_test.loc[value])\n",
    "            X_test = X_test.drop(value)\n",
    "            Y_test = Y_test.drop(value)\n",
    "Active_Learning_lwoR()\n",
    "print(\"Accuracy: \",AL_Lwo_R)"
   ]
  },
  {
   "cell_type": "markdown",
   "metadata": {},
   "source": [
    "## Active Learning- Lw/R"
   ]
  },
  {
   "cell_type": "code",
   "execution_count": 200,
   "metadata": {},
   "outputs": [
    {
     "name": "stdout",
     "output_type": "stream",
     "text": [
      "0\n",
      "Uncertain_Email\n",
      "354 APICS- The Association of Operations Management\r",
      "\r",
      " <relay@collegiatelink.mail.campuslabs.com>10/3 UI Labs Tour and Presentation\n",
      "462 Career Services at Illinois Tech via joinhandshake.com\r",
      "\r",
      " <handshake@mail.joinhandshake.com>Don't forget about tomorrow's Career Fair Prep Night\n",
      "632 LinkedIn <news@linkedin.com>A CEO\\s response to an employee\\s request for a mental health day is going viral. Here\\s what people are saying.\n",
      "1272 \"L'Occitane en Provence\" <contact@contact.loccitane.com>the fall beauty event ends tonight! get your free gift (worth $59)\n",
      "813 CS 584 on Piazza <no-reply@piazza.com>Problem in Last Quiz Please explain how we get class 2 for x2?\n",
      "Finding_Rationale: \n",
      "APICS- The Association of Operations Management\r",
      "\r",
      " <relay@collegiatelink.mail.campuslabs.com>10/3 UI Labs Tour and Presentation\n",
      "Rationale: apics\n",
      "APICS- The Association of Operations Management\r",
      "\r",
      " <relay@collegiatelink.mail.campuslabs.com>10/3 UI Labs Tour and Presentation\n",
      "Rationale: association\n"
     ]
    },
    {
     "name": "stderr",
     "output_type": "stream",
     "text": [
      "/Users/YiChen/anaconda3/lib/python3.6/site-packages/sklearn/utils/validation.py:547: DataConversionWarning: A column-vector y was passed when a 1d array was expected. Please change the shape of y to (n_samples, ), for example using ravel().\n",
      "  y = column_or_1d(y, warn=True)\n"
     ]
    },
    {
     "name": "stdout",
     "output_type": "stream",
     "text": [
      " <handshake@mail.joinhandshake.com>Don't forget about tomorrow's Career Fair Prep Night\n",
      "Rationale: handshake\n",
      "LinkedIn <news@linkedin.com>A CEO\\s response to an employee\\s request for a mental health day is going viral. Here\\s what people are saying.\n",
      "Rationale: linkedin\n",
      "\"L'Occitane en Provence\" <contact@contact.loccitane.com>the fall beauty event ends tonight! get your free gift (worth $59)\n",
      "Rationale: free\n",
      "\"L'Occitane en Provence\" <contact@contact.loccitane.com>the fall beauty event ends tonight! get your free gift (worth $59)\n",
      "Rationale: gift\n",
      "\"L'Occitane en Provence\" <contact@contact.loccitane.com>the fall beauty event ends tonight! get your free gift (worth $59)\n",
      "Rationale: tonight\n",
      "CS 584 on Piazza <no-reply@piazza.com>Problem in Last Quiz Please explain how we get class 2 for x2?\n",
      "Rationale: piazza\n",
      "1\n",
      "Uncertain_Email\n",
      "1422 SkinMedix <info@skinmedix.com>it's all on sale! up to an extra 10% off everything you want & more\n",
      "1696 \"L'Occitane en Provence\" <contact@contact.loccitane.com>almost gone! our shea butter soaps are just what you need\n",
      " skills!ake@mail.joinhandshake.com>Career Fair Prep Night: Practice and refine your communication\n",
      "862 LinkedIn <news@linkedin.com>Job interviews are utterly useless \\ even harmful \\ new research finds. Here's what people are saying.\n",
      " purchase.e Lauder Online <EsteeLauderOnline@e.esteelauder.com>ends tonight: free 7-piece gift (worth up to $140), with your\n",
      "Finding_Rationale: \n",
      "SkinMedix <info@skinmedix.com>it's all on sale! up to an extra 10% off everything you want & more\n",
      "Rationale: off\n",
      "SkinMedix <info@skinmedix.com>it's all on sale! up to an extra 10% off everything you want & more\n",
      "Rationale: sale\n",
      " skills!ake@mail.joinhandshake.com>Career Fair Prep Night: Practice and refine your communication\n",
      "Rationale: handshake\n",
      "LinkedIn <news@linkedin.com>Job interviews are utterly useless \\ even harmful \\ new research finds. Here's what people are saying.\n",
      "Rationale: linkedin\n",
      " purchase.der Online <EsteeLauderOnline@e.esteelauder.com>ends tonight: free 7-piece gift (worth up to $140), with your\n",
      "Rationale: free\n",
      " purchase.der Online <EsteeLauderOnline@e.esteelauder.com>ends tonight: free 7-piece gift (worth up to $140), with your\n",
      "Rationale: gift\n",
      " purchase.der Online <EsteeLauderOnline@e.esteelauder.com>ends tonight: free 7-piece gift (worth up to $140), with your\n",
      "Rationale: purchase\n",
      " purchase.der Online <EsteeLauderOnline@e.esteelauder.com>ends tonight: free 7-piece gift (worth up to $140), with your\n",
      "Rationale: tonight\n",
      "2\n",
      "Uncertain_Email\n",
      " <handshake@mail.joinhandshake.com>Submit Your Resume to Fall 2017 Career Fair Companies\n",
      " looking for candidates like you.edin.com>Yi Chen: Google, Clarity Solution Group, and Conversant LLC are\n",
      "1317 \"L'Occitane en Provence\" <contact@contact.loccitane.com> just in time for fall: discover our new shea butter additions!\n",
      "917 Career Services at Illinois Tech <careerservices@iit.edu>Learn how to converse professionally and other networking opportunities\n",
      " using Naive Bayes Piazza <no-reply@piazza.com>Request for extending the deadline for Assignment 8 Transparency\n",
      "Finding_Rationale: \n",
      " <handshake@mail.joinhandshake.com>Submit Your Resume to Fall 2017 Career Fair Companies\n",
      "Rationale: handshake\n",
      " looking for candidates like you.com>Yi Chen: Google, Clarity Solution Group, and Conversant LLC are\n",
      "Rationale: linkedin\n",
      "\"L'Occitane en Provence\" <contact@contact.loccitane.com> just in time for fall: discover our new shea butter additions!\n",
      "Rationale: new\n",
      "Career Services at Illinois Tech <careerservices@iit.edu>Learn how to converse professionally and other networking opportunities\n",
      "Rationale: edu\n",
      "Career Services at Illinois Tech <careerservices@iit.edu>Learn how to converse professionally and other networking opportunities\n",
      "Rationale: iit\n",
      " using Naive Bayeszza <no-reply@piazza.com>Request for extending the deadline for Assignment 8 Transparency\n",
      "Rationale: piazza\n",
      "3\n",
      "Uncertain_Email\n",
      "1256 \"Kiehl's Since 1851\" <kiehls@mail.kiehls-usa.com>healthy skin at a value with kate moross premium gift sets\n",
      "1359 \"NORDSTROM RACK\" <nordstromrack@e.nordstromrack.com>wear it your way: the embroidered moto up to 50% off & more for fall\n",
      "1525 \"Clinique Online\" <clinique@e.clinique.com>new! powder power for lips. free 7-pc. gift + more with purchase. a $146.50 value.\n",
      "1378 \"Calvin Klein Outlet Stores\" <calvinklein@email.calvinklein.com>warm up with the season\\s best savings: up to 70% off + extra 20% off for preferred\n",
      "1656 \"Mariano's\" <Marianos@email-marianos.com>loadable lunch & dinner sushi tray from oki sushi, buffalo rotisserie chicken salad, and more\n",
      "Finding_Rationale: \n",
      "\"Kiehl's Since 1851\" <kiehls@mail.kiehls-usa.com>healthy skin at a value with kate moross premium gift sets\n",
      "Rationale: gift\n",
      "\"NORDSTROM RACK\" <nordstromrack@e.nordstromrack.com>wear it your way: the embroidered moto up to 50% off & more for fall\n",
      "Rationale: off\n",
      "\"Clinique Online\" <clinique@e.clinique.com>new! powder power for lips. free 7-pc. gift + more with purchase. a $146.50 value.\n",
      "Rationale: free\n",
      "\"Clinique Online\" <clinique@e.clinique.com>new! powder power for lips. free 7-pc. gift + more with purchase. a $146.50 value.\n",
      "Rationale: gift\n",
      "\"Clinique Online\" <clinique@e.clinique.com>new! powder power for lips. free 7-pc. gift + more with purchase. a $146.50 value.\n",
      "Rationale: new\n",
      "\"Clinique Online\" <clinique@e.clinique.com>new! powder power for lips. free 7-pc. gift + more with purchase. a $146.50 value.\n",
      "Rationale: purchase\n",
      "\"Calvin Klein Outlet Stores\" <calvinklein@email.calvinklein.com>warm up with the season\\s best savings: up to 70% off + extra 20% off for preferred\n",
      "Rationale: best\n",
      "\"Calvin Klein Outlet Stores\" <calvinklein@email.calvinklein.com>warm up with the season\\s best savings: up to 70% off + extra 20% off for preferred\n",
      "Rationale: off\n",
      "4\n",
      "Uncertain_Email\n",
      "1703 EstÂ©e Lauder Online <EsteeLauderOnline@e.esteelauder.com>the eyes have it: more for less. shop before they\\re gone!\n",
      "715 LinkedIn <news@linkedin.com>As close as it gets to a crystal ball in tech: Mary Meeker\\s annual trends report. Here's what you need to know now.\n",
      " for you.dIn <messages-noreply@linkedin.com>REN-HAO SYUE, Peng Lu, and 6 others are new connection suggestions\n",
      "929 \"Trisha Degg\" <trisha@illinoistech.org>You're Invited! ITA Student Webinar | How to Prepare for a Career in Tech\n",
      "649 \"Yitong Huang (via Google Drive)\" <drive-shares-noreply@google.com>CS-521-01-_SB-106_2017-06-01_17_58_01.ts.720p.mp4\n",
      "Finding_Rationale: \n",
      "LinkedIn <news@linkedin.com>As close as it gets to a crystal ball in tech: Mary Meeker\\s annual trends report. Here's what you need to know now.\n",
      "Rationale: linkedin\n",
      " for you.<messages-noreply@linkedin.com>REN-HAO SYUE, Peng Lu, and 6 others are new connection suggestions\n",
      "Rationale: linkedin\n",
      "\"Trisha Degg\" <trisha@illinoistech.org>You're Invited! ITA Student Webinar | How to Prepare for a Career in Tech\n",
      "Rationale: ita\n",
      "5\n",
      "Uncertain_Email\n",
      " <relay@collegiatelink.mail.campuslabs.com>WEN is coming to our General Body Meeting\n",
      " presentation!il.joinhandshake.com>Want to strengthen professional connections? Attend our Sept. 7\n",
      " presentation!il.joinhandshake.com>Want to strengthen professional connections? Attend our Sept. 7\n",
      " <handshake@mail.joinhandshake.com>4 Days to Submit Your Resume to Fall Career Fair Companies\n",
      " Big Shoulders Fund<handshake@mail.joinhandshake.com>Careers in Non-profits and Public Administration by Eliza Bryant of\n",
      "Finding_Rationale: \n",
      " <relay@collegiatelink.mail.campuslabs.com>WEN is coming to our General Body Meeting\n",
      "Rationale: association\n",
      " presentation!il.joinhandshake.com>Want to strengthen professional connections? Attend our Sept. 7\n",
      "Rationale: handshake\n",
      " presentation!il.joinhandshake.com>Want to strengthen professional connections? Attend our Sept. 7\n",
      "Rationale: handshake\n",
      " <handshake@mail.joinhandshake.com>4 Days to Submit Your Resume to Fall Career Fair Companies\n",
      "Rationale: handshake\n",
      " Big Shoulders Fund<handshake@mail.joinhandshake.com>Careers in Non-profits and Public Administration by Eliza Bryant of\n",
      "Rationale: handshake\n",
      "6\n",
      "Uncertain_Email\n",
      " and win up to $2,500! dshake@mail.joinhandshake.com>Enter the Jules Knapp Chicago Innovation Challenge by October 1,\n",
      "385 IIT Office of Technology Services <email-announcement@iit.edu>Special OTS Maintenance Windows Hours - October 13-15, 2017\n",
      "1033 Career Services at Illinois Tech <careerservices@iit.edu>Tell us what you thought of the spring Career Fair\n",
      " Family Institute for Innovation and Tech Entrepreneurshipathew Appointed as Academic Director of the Ed Kaplan\n",
      " Halloween Partyu <ychou@hawk.iit.edu>Fwd: (TSA)Community Partner Confirmation - Chicago Largest Asian\n",
      "Finding_Rationale: \n",
      " and win up to $2,500! dshake@mail.joinhandshake.com>Enter the Jules Knapp Chicago Innovation Challenge by October 1,\n",
      "Rationale: handshake\n",
      " and win up to $2,500! dshake@mail.joinhandshake.com>Enter the Jules Knapp Chicago Innovation Challenge by October 1,\n",
      "Rationale: iit\n",
      "IIT Office of Technology Services <email-announcement@iit.edu>Special OTS Maintenance Windows Hours - October 13-15, 2017\n",
      "Rationale: edu\n",
      "IIT Office of Technology Services <email-announcement@iit.edu>Special OTS Maintenance Windows Hours - October 13-15, 2017\n",
      "Rationale: iit\n"
     ]
    },
    {
     "name": "stdout",
     "output_type": "stream",
     "text": [
      "Career Services at Illinois Tech <careerservices@iit.edu>Tell us what you thought of the spring Career Fair\n",
      "Rationale: edu\n",
      "Career Services at Illinois Tech <careerservices@iit.edu>Tell us what you thought of the spring Career Fair\n",
      "Rationale: iit\n",
      " Family Institute for Innovation and Tech Entrepreneurshipw Appointed as Academic Director of the Ed Kaplan\n",
      "Rationale: edu\n",
      " Family Institute for Innovation and Tech Entrepreneurshipw Appointed as Academic Director of the Ed Kaplan\n",
      "Rationale: iit\n",
      " Halloween Partychou@hawk.iit.edu>Fwd: (TSA)Community Partner Confirmation - Chicago Largest Asian\n",
      "Rationale: confirmation\n",
      " Halloween Partychou@hawk.iit.edu>Fwd: (TSA)Community Partner Confirmation - Chicago Largest Asian\n",
      "Rationale: edu\n",
      " Halloween Partychou@hawk.iit.edu>Fwd: (TSA)Community Partner Confirmation - Chicago Largest Asian\n",
      "Rationale: iit\n",
      "7\n",
      "Uncertain_Email\n",
      "1274 \"Kiehl's Since 1851\" <kiehls@mail.kiehls-usa.com>your sneak peek of our exciting holiday partnership is here!\n",
      " at Illinois Techay@collegiatelink.mail.campuslabs.com>Survey Reminder - Help Shape the Future of Housing and Student Life\n",
      "1542 \"Mariano's\" <Marianos@email-marianos.com> 5 day sale  boneless strip steak, krakus polish ham or land o'lakes cheese, pillsbury crescent rolls, and more\n",
      "1410 Samsonite <samsonite@enews.samsonite.com>save up 40% off your next order - email exclusive. plus, check out our new ubx backpack\n",
      "1014 LinkedIn <news@linkedin.com>You may be busy, but you probably aren\\t as productive as you think \\ and you\\re definitely working yourself to death\n",
      "Finding_Rationale: \n",
      "\"Kiehl's Since 1851\" <kiehls@mail.kiehls-usa.com>your sneak peek of our exciting holiday partnership is here!\n",
      "Rationale: holiday\n",
      " at Illinois Techollegiatelink.mail.campuslabs.com>Survey Reminder - Help Shape the Future of Housing and Student Life\n",
      "Rationale: hawklink\n",
      "\"Mariano's\" <Marianos@email-marianos.com> 5 day sale  boneless strip steak, krakus polish ham or land o'lakes cheese, pillsbury crescent rolls, and more\n",
      "Rationale: sale\n",
      "Samsonite <samsonite@enews.samsonite.com>save up 40% off your next order - email exclusive. plus, check out our new ubx backpack\n",
      "Rationale: exclusive\n",
      "Samsonite <samsonite@enews.samsonite.com>save up 40% off your next order - email exclusive. plus, check out our new ubx backpack\n",
      "Rationale: new\n",
      "Samsonite <samsonite@enews.samsonite.com>save up 40% off your next order - email exclusive. plus, check out our new ubx backpack\n",
      "Rationale: off\n",
      "Samsonite <samsonite@enews.samsonite.com>save up 40% off your next order - email exclusive. plus, check out our new ubx backpack\n",
      "Rationale: save\n",
      "LinkedIn <news@linkedin.com>You may be busy, but you probably aren\\t as productive as you think \\ and you\\re definitely working yourself to death\n",
      "Rationale: linkedin\n",
      "8\n",
      "Uncertain_Email\n",
      " Chicago, ILjob-search@indeed.com>$141,531 is the average salary for machine learning engineer in\n",
      " Science & Media Tech Firm at FILD and 9 other jobs for you. Python / Django / JavaScript - Top Rated Data\n",
      " Wednesday, Sep 20 12:00 pm - 4:00 pm CDTt, Military, Search firms -DAY 1: Computer Science, Information Technology,\n",
      " staff ended up with 85,000 customers. Here's what people are saying.w a startup with no sales\n",
      " <handshake@mail.joinhandshake.com>Seeking Donations of Professional Clothing and Shoes!\n",
      "Finding_Rationale: \n",
      " Chicago, ILsearch@indeed.com>$141,531 is the average salary for machine learning engineer in\n",
      "Rationale: indeed\n",
      " Science & Media Tech Firm at FILD and 9 other jobs for you.hon / Django / JavaScript - Top Rated Data\n",
      "Rationale: linkedin\n",
      " Wednesday, Sep 20 12:00 pm - 4:00 pm CDTt, Military, Search firms -1: Computer Science, Information Technology,\n",
      "Rationale: handshake\n",
      " staff ended up with 85,000 customers. Here's what people are saying.startup with no sales\n",
      "Rationale: linkedin\n",
      " <handshake@mail.joinhandshake.com>Seeking Donations of Professional Clothing and Shoes!\n",
      "Rationale: handshake\n",
      "9\n",
      "Uncertain_Email\n",
      "914 LinkedIn <jobs-listings@linkedin.com>Software Engineer \\ magic methods, smart pointers & generics $250K - $300K at maven and 9 other jobs for you.\n",
      "827 Yu-Hsuan Chou <ychou@hawk.iit.edu>Fwd: ITA Student Scoop: PEAK6 Panel & Networking | Resume Check-List\n",
      "235 CS 595 - 01 on Piazza <no-reply@piazza.com>How to calculate the log-evidence and probability distribution?\n",
      "472 Joseph Rosen <jrosen@iit.edu>Re: X9200447.201810 (CSP-595-01.17F: Big Data Technologies): Root key issue\n",
      "478 Joseph Rosen <jrosen@iit.edu>Re: X9200447.201810 (CSP-595-01.17F: Big Data Technologies): Root key issue\n",
      "Finding_Rationale: \n",
      "LinkedIn <jobs-listings@linkedin.com>Software Engineer \\ magic methods, smart pointers & generics $250K - $300K at maven and 9 other jobs for you.\n",
      "Rationale: linkedin\n",
      "Yu-Hsuan Chou <ychou@hawk.iit.edu>Fwd: ITA Student Scoop: PEAK6 Panel & Networking | Resume Check-List\n",
      "Rationale: edu\n",
      "Yu-Hsuan Chou <ychou@hawk.iit.edu>Fwd: ITA Student Scoop: PEAK6 Panel & Networking | Resume Check-List\n",
      "Rationale: iit\n",
      "CS 595 - 01 on Piazza <no-reply@piazza.com>How to calculate the log-evidence and probability distribution?\n",
      "Rationale: piazza\n",
      "Joseph Rosen <jrosen@iit.edu>Re: X9200447.201810 (CSP-595-01.17F: Big Data Technologies): Root key issue\n",
      "Rationale: edu\n",
      "Joseph Rosen <jrosen@iit.edu>Re: X9200447.201810 (CSP-595-01.17F: Big Data Technologies): Root key issue\n",
      "Rationale: iit\n",
      "Joseph Rosen <jrosen@iit.edu>Re: X9200447.201810 (CSP-595-01.17F: Big Data Technologies): Root key issue\n",
      "Rationale: edu\n",
      "Joseph Rosen <jrosen@iit.edu>Re: X9200447.201810 (CSP-595-01.17F: Big Data Technologies): Root key issue\n",
      "Rationale: iit\n",
      "Accuracy:  [0.53208404315729696, 0.59794988610478361, 0.75499714448886346, 0.75143184421534936, 0.88052843193566921, 0.87096774193548387, 0.87348353552859614, 0.88586326767091539, 0.88262638001162119, 0.86538461538461542]\n"
     ]
    }
   ],
   "source": [
    "def Active_Learning_lwR():\n",
    "    AL_Lw_R=[]\n",
    "    X_train,X_test,Y_train,Y_test = train_test_split(X,Y,test_size = 0.99, random_state = seed)\n",
    "    for i in range(0,Budget):\n",
    "        print(i)\n",
    "        nb.fit(X_train, Y_train)\n",
    "        predicted = nb.predict(X_test)\n",
    "        AL_Lw_R.append(nb.score(X_test,Y_test))\n",
    "        uncertain_list = finding_uncertain(X_test)\n",
    "        findind_rationale(uncertain_list)\n",
    "        for i, value in enumerate(uncertain_list): \n",
    "            X_train = X_train.append(X_test.loc[value])\n",
    "            Y_train = Y_train.append(Y_test.loc[value])\n",
    "            X_test = X_test.drop(value)\n",
    "            Y_test = Y_test.drop(value)\n",
    "Active_Learning_lwR()\n",
    "print(\"Accuracy: \",AL_Lw_R)"
   ]
  },
  {
   "cell_type": "markdown",
   "metadata": {},
   "source": [
    "## Compare the result Lw/R & Lw/oR -CountVectorizer"
   ]
  },
  {
   "cell_type": "code",
   "execution_count": 201,
   "metadata": {},
   "outputs": [
    {
     "data": {
      "image/png": "[encoded data removed]",
      "text/plain": [
       "<matplotlib.figure.Figure at 0x119f46320>"
      ]
     },
     "metadata": {},
     "output_type": "display_data"
    },
    {
     "name": "stdout",
     "output_type": "stream",
     "text": [
      "RS_Lwo_R:  [0.47756956274843837, 0.53075170842824604, 0.6950314106225014, 0.68213058419243988, 0.77713957495692132, 0.57603686635944695, 0.60947429231658001, 0.63499420625724223, 0.71295758280069732, 0.76048951048951052]\n",
      "RS_Lw_R:  [0.53208404315729696, 0.8006833712984055, 0.8463735008566533, 0.87686139747995417, 0.87018954623779432, 0.86405529953917048, 0.86250722125938761, 0.86095017381228278, 0.88320743753631614, 0.89102564102564108]\n",
      "AL_Lwo_R:  [0.53208404315729696, 0.59794988610478361, 0.75499714448886346, 0.75143184421534936, 0.88052843193566921, 0.87096774193548387, 0.87348353552859614, 0.88586326767091539, 0.88262638001162119, 0.86538461538461542]\n",
      "AL_Lw_R:  [0.53208404315729696, 0.59794988610478361, 0.75499714448886346, 0.75143184421534936, 0.88052843193566921, 0.87096774193548387, 0.87348353552859614, 0.88586326767091539, 0.88262638001162119, 0.86538461538461542]\n"
     ]
    }
   ],
   "source": [
    "import matplotlib.pyplot as plt\n",
    "\n",
    "plt.plot(length_trainset, AL_Lwo_R,'r-',\n",
    "        length_trainset,AL_Lw_R,'g-',\n",
    "        length_trainset,RS_Lwo_R,'b-',\n",
    "        length_trainset,RS_Lw_R,'c-')\n",
    "\n",
    "plt.legend(('AL_Lwo_R', 'AL_Lw_R', 'RS_Lwo_R', 'RS_Lw_R'))\n",
    "\n",
    "plt.xlabel('Training number --->')\n",
    "plt.ylabel('Accuracy --->')\n",
    "\n",
    "plt.show()\n",
    "\n",
    "print(\"RS_Lwo_R: \",RS_Lwo_R)\n",
    "print(\"RS_Lw_R: \",RS_Lw_R)\n",
    "print(\"AL_Lwo_R: \",AL_Lwo_R)\n",
    "print(\"AL_Lw_R: \",AL_Lw_R)\n"
   ]
  },
  {
   "cell_type": "code",
   "execution_count": 202,
   "metadata": {},
   "outputs": [
    {
     "data": {
      "image/png": "[encoded data removed]",
      "text/plain": [
       "<matplotlib.figure.Figure at 0x119f27fd0>"
      ]
     },
     "metadata": {},
     "output_type": "display_data"
    }
   ],
   "source": [
    "import matplotlib.pyplot as plt\n",
    "\n",
    "    \n",
    "plt.plot(length_trainset, AL_Lwo_R,'r-',\n",
    "        length_trainset,AL_Lw_R,'g-')\n",
    "\n",
    "plt.legend(('AL_Lwo_R', 'AL_Lw_R'))\n",
    "\n",
    "plt.xlabel('Training number --->')\n",
    "plt.ylabel('Accuracy --->')\n",
    "\n",
    "\n",
    "plt.show()\n",
    "\n"
   ]
  },
  {
   "cell_type": "code",
   "execution_count": 203,
   "metadata": {},
   "outputs": [
    {
     "data": {
      "image/png": "[encoded data removed]",
      "text/plain": [
       "<matplotlib.figure.Figure at 0x119d04f28>"
      ]
     },
     "metadata": {},
     "output_type": "display_data"
    }
   ],
   "source": [
    "import matplotlib.pyplot as plt\n",
    "\n",
    "    \n",
    "plt.plot(length_trainset,RS_Lwo_R,'b-',\n",
    "        length_trainset,RS_Lw_R,'c-',)\n",
    "\n",
    "plt.legend(('RS_Lwo_R', 'RS_Lw_R'))\n",
    "\n",
    "plt.xlabel('Training number --->')\n",
    "plt.ylabel('Accuracy --->')\n",
    "\n",
    "\n",
    "plt.show()\n",
    "\n"
   ]
  },
  {
   "cell_type": "code",
   "execution_count": 204,
   "metadata": {
    "collapsed": true
   },
   "outputs": [],
   "source": [
    "from sklearn.feature_extraction.text import TfidfVectorizer\n",
    "#vectorizer = CountVectorizer(max_df=0.5,stop_words='english')#shape=(500, 20928) for Email\n",
    "from nltk.stem import WordNetLemmatizer\n",
    "wnl = WordNetLemmatizer()\n",
    "analyzer = TfidfVectorizer().build_analyzer()\n",
    "\n",
    "def stemmed_words(doc):\n",
    "    return (wnl.lemmatize(w) for w in analyzer(doc))\n",
    "\n",
    "vectorizer = CountVectorizer(analyzer=stemmed_words)#shape=(500, 20936) for Email\n",
    "X_sparse = vectorizer.fit_transform(New_dataset['Email'])#shape=(561, 1159)\n",
    "feature_name = vectorizer.get_feature_names()\n",
    "X = pd.DataFrame(X_sparse.todense()) \n",
    "\n"
   ]
  }
 ],
 "metadata": {
  "kernelspec": {
   "display_name": "Python 3",
   "language": "python",
   "name": "python3"
  },
  "language_info": {
   "codemirror_mode": {
    "name": "ipython",
    "version": 3
   },
   "file_extension": ".py",
   "mimetype": "text/x-python",
   "name": "python",
   "nbconvert_exporter": "python",
   "pygments_lexer": "ipython3",
   "version": "3.6.2"
  }
 },
 "nbformat": 4,
 "nbformat_minor": 2
}
